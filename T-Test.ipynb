{
 "cells": [
  {
   "cell_type": "markdown",
   "metadata": {},
   "source": [
    "# T-Test"
   ]
  },
  {
   "cell_type": "markdown",
   "metadata": {},
   "source": [
    "Code to run a significance calculation using a test statistic between 2 normally distributed datasets\n",
    "\n",
    "http://blog.minitab.com/blog/adventures-in-statistics-2/understanding-t-tests-t-values-and-t-distributions"
   ]
  },
  {
   "cell_type": "code",
   "execution_count": 32,
   "metadata": {
    "collapsed": true
   },
   "outputs": [],
   "source": [
    "import numpy as np\n",
    "from scipy import stats\n",
    "import matplotlib.pyplot as plt"
   ]
  },
  {
   "cell_type": "code",
   "execution_count": 27,
   "metadata": {
    "collapsed": true
   },
   "outputs": [],
   "source": [
    "#Create 2 randomly distributed datasets with N points\n",
    "N = 50\n",
    "datasetA = np.random.randn(N) + 2\n",
    "datasetB = np.random.randn(N)"
   ]
  },
  {
   "cell_type": "code",
   "execution_count": 28,
   "metadata": {
    "collapsed": true
   },
   "outputs": [],
   "source": [
    "#Calculate the T statistic\n",
    "#We want the unbiansed variance. Thats why we use ddof = 1   “Delta Degrees of Freedom\"\n",
    "varA = datasetA.var(ddof = 1)\n",
    "varB = datasetB.var(ddof = 1)\n",
    "#Pool standard deviation\n",
    "s = np.sqrt((varA + varB) / 2)    \n",
    "t = (datasetA.mean()  - datasetB.mean()) / (s * np.sqrt(2.0/N))\n",
    "#degrees of freedom\n",
    "df=2*N - 2"
   ]
  },
  {
   "cell_type": "code",
   "execution_count": 29,
   "metadata": {},
   "outputs": [
    {
     "name": "stdout",
     "output_type": "stream",
     "text": [
      "t:8.88204886616 \t p:3.21964677141e-14\n"
     ]
    }
   ],
   "source": [
    "#The p-value. Probability of a more extreme example if the null hypothesis is true\n",
    "p = 1 - stats.t.cdf(t,df=df)           #What is the cdf  method doing?  Calcultating the the cumulative distribution function (From 0 to t)\n",
    "#Because it is a simetric distribution we multiply the value by 2\n",
    "print (\"t:%s \\t p:%s\"%(t,2*p))"
   ]
  },
  {
   "cell_type": "markdown",
   "metadata": {},
   "source": [
    "The inbuilt T test assumes a 2 sided test so there's no need of multiplying the result of the cdf by 2\n",
    "https://docs.scipy.org/doc/scipy/reference/generated/scipy.stats.ttest_ind.html"
   ]
  },
  {
   "cell_type": "code",
   "execution_count": 31,
   "metadata": {},
   "outputs": [
    {
     "name": "stdout",
     "output_type": "stream",
     "text": [
      "t:8.88204886616 \t p:3.21988253508e-14\n"
     ]
    }
   ],
   "source": [
    "#inbuilt ttest   should give the same result\n",
    "t2,p2 = stats.ttest_ind(datasetA,datasetB)    #the p probability doesnt need to be multiplied by 2\n",
    "print (\"t:%s \\t p:%s\"%(t2,p2))"
   ]
  },
  {
   "cell_type": "code",
   "execution_count": null,
   "metadata": {
    "collapsed": true
   },
   "outputs": [],
   "source": []
  }
 ],
 "metadata": {
  "kernelspec": {
   "display_name": "Python 2",
   "language": "python",
   "name": "python2"
  },
  "language_info": {
   "codemirror_mode": {
    "name": "ipython",
    "version": 2
   },
   "file_extension": ".py",
   "mimetype": "text/x-python",
   "name": "python",
   "nbconvert_exporter": "python",
   "pygments_lexer": "ipython2",
   "version": "2.7.13"
  }
 },
 "nbformat": 4,
 "nbformat_minor": 2
}
